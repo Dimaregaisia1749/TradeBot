{
 "cells": [
  {
   "cell_type": "code",
   "execution_count": 206,
   "metadata": {},
   "outputs": [
    {
     "name": "stdout",
     "output_type": "stream",
     "text": [
      "cpu\n"
     ]
    }
   ],
   "source": [
    "import torch\n",
    "\n",
    "device = torch.device(\"cuda\" if torch.cuda.is_available() else \"cpu\")\n",
    "print(device)"
   ]
  },
  {
   "cell_type": "code",
   "execution_count": 207,
   "metadata": {},
   "outputs": [],
   "source": [
    "import pandas as pd\n",
    "import numpy as np\n",
    "import os\n",
    "import csv\n",
    "\n",
    "from torchsummary import summary\n",
    "from tqdm import tqdm\n",
    "\n",
    "from torch.utils.data import DataLoader, Dataset\n",
    "from torch.utils.data import TensorDataset\n",
    "from torch import nn, optim, tensor, Tensor\n",
    "from sklearn.preprocessing import RobustScaler, StandardScaler"
   ]
  },
  {
   "cell_type": "code",
   "execution_count": 208,
   "metadata": {},
   "outputs": [],
   "source": [
    "class CandelsDataset(Dataset):\n",
    "    def __init__(self, root_dir: str, years: list, window_size: int, max_samples: int, device):\n",
    "        self.device = device\n",
    "        self.window_size = window_size\n",
    "        self.tables_list = self.__get_correct_tables(root_dir, years)\n",
    "        self.samples = self.__generate_samples(self.tables_list, max_samples)\n",
    "\n",
    "    def __get_correct_tables(self, root_dir, years):\n",
    "        \"\"\"\n",
    "        get paths of .csv with len > window_size \n",
    "        \"\"\"\n",
    "        tables_list = []\n",
    "        for root, dirs, files in os.walk(root_dir):\n",
    "            if dirs:\n",
    "                tables_dirs = dirs\n",
    "                break\n",
    "        for table_dir in tables_dirs:\n",
    "            if int(table_dir[-4:]) in years:\n",
    "                full_dir = os.path.join(root_dir, table_dir)\n",
    "                for root, dirs, files in os.walk(full_dir):\n",
    "                    for file in files:\n",
    "                        if file.lower().endswith('.csv'):\n",
    "                            full_path = os.path.join(full_dir, file)\n",
    "                            with open(full_path) as f:\n",
    "                                if sum(1 for line in f) > self.window_size:\n",
    "                                    tables_list.append(full_path)\n",
    "        return tables_list\n",
    "\n",
    "    def __generate_samples(self, tables_list, max_samples):\n",
    "        samples = torch.empty((0, self.window_size + 1, 8)) #(n_blocks, window_size, n_features)\n",
    "        for table in tqdm(tables_list, desc=\"tables done\"):\n",
    "            df = pd.read_csv(\n",
    "                table,\n",
    "                sep =\";\",\n",
    "                names=[\"figi\", \"utc\", \"open\", \"close\", \"high\", \"low\", \"volume\"],\n",
    "                index_col=False\n",
    "                )\n",
    "            df['utc'] = pd.to_datetime(df['utc'], utc=True)\n",
    "\n",
    "            #fill missing candles\n",
    "            df = df.set_index('utc').resample('min').asfreq()\n",
    "            df['volume'] = df['volume'].fillna(0)\n",
    "            for col in ['figi', 'open', 'high', 'low', 'close']:\n",
    "                df[col] = df[col].ffill()\n",
    "\n",
    "            #add time data\n",
    "            df['hour'] = df.index.hour\n",
    "            df['day_of_week'] = df.index.day_of_week\n",
    "            df['minute'] = df.index.minute\n",
    "            df.drop(labels=['figi'], axis=1, inplace=True)\n",
    "\n",
    "            df = df[(df['day_of_week'] < 5)] #drop not tradeble days\n",
    "\n",
    "            data = df.values\n",
    "            if data.shape[0] == 0:\n",
    "                continue\n",
    "            scaler = RobustScaler()\n",
    "            data = scaler.fit_transform(data)\n",
    "            windows = np.lib.stride_tricks.sliding_window_view(\n",
    "                data, (self.window_size + 1, data.shape[1])\n",
    "            )  #(n_blocks, window_size, n_features)\n",
    "            tensor = torch.tensor(windows, dtype=torch.float32).squeeze(dim=1)\n",
    "            samples = torch.vstack([samples, tensor])\n",
    "            if samples.shape[0] > max_samples:\n",
    "                break\n",
    "        return samples\n",
    "\n",
    "\n",
    "    def __len__(self):\n",
    "        return len(self.samples)\n",
    "\n",
    "    def __getitem__(self, idx):\n",
    "        sample = self.samples[idx].to(device)\n",
    "        return sample[:-1, :5], sample[:-1, 5:], sample[-1:, :5].squeeze(dim=0) #OHLCV, time features, target"
   ]
  },
  {
   "cell_type": "code",
   "execution_count": 209,
   "metadata": {},
   "outputs": [],
   "source": [
    "class TimeEncoder(nn.Module):\n",
    "    def __init__(self, candles_features, time_features, d_model):\n",
    "        super().__init__()\n",
    "        self.input_proj = nn.Linear(candles_features, d_model)\n",
    "        self.time2vec = nn.Sequential(\n",
    "            nn.Linear(time_features, 128),\n",
    "            nn.GELU(),\n",
    "            nn.Linear(128, d_model)\n",
    "        )\n",
    "        self.learnable_pe = nn.Parameter(torch.randn(1, 5000, d_model))\n",
    "        \n",
    "    def forward(self, x, time_features):\n",
    "        t_emb = self.time2vec(time_features)\n",
    "        x = self.input_proj(x)\n",
    "        x = x + self.learnable_pe[:, :x.size(1), :] + t_emb\n",
    "        return x"
   ]
  },
  {
   "cell_type": "code",
   "execution_count": 210,
   "metadata": {},
   "outputs": [],
   "source": [
    "class Transformer(nn.Module):\n",
    "    def __init__(self, d_model=128, nhead=4):\n",
    "        super().__init__()\n",
    "        self.encoder = nn.TransformerEncoder(\n",
    "            nn.TransformerEncoderLayer(d_model, nhead, batch_first=True),\n",
    "            num_layers=4\n",
    "        )\n",
    "\n",
    "    def forward(self, x):\n",
    "        x = self.encoder(x)\n",
    "        return x"
   ]
  },
  {
   "cell_type": "code",
   "execution_count": 211,
   "metadata": {},
   "outputs": [],
   "source": [
    "class CandleTransformer(nn.Module):\n",
    "    def __init__(self):\n",
    "        super().__init__()\n",
    "        self.time_enc = TimeEncoder(candles_features=5, time_features=3, d_model=1024)\n",
    "        self.transformer = Transformer(d_model=1024, nhead=8)\n",
    "        self.out = nn.Linear(1024, 5)\n",
    "\n",
    "    def forward(self, prices, time_feats):\n",
    "        \"\"\"\n",
    "        # prices: [B, 180, 5] (OHLCV)\n",
    "        # indicators: [B, 180, 4]\n",
    "        # time_feats: [B, 180, 3]\n",
    "        \"\"\"\n",
    "        time_encoded = self.time_enc(prices, time_feats)\n",
    "        trans_out = self.transformer(time_encoded)\n",
    "        trans_out = trans_out.mean(dim=1)\n",
    "        out = self.out(trans_out)\n",
    "        return out"
   ]
  },
  {
   "cell_type": "code",
   "execution_count": 212,
   "metadata": {},
   "outputs": [],
   "source": [
    "def direction_accuracy(pred_close, true_close):\n",
    "    direction_pred = torch.sign(pred_close[:, -1] - pred_close[:, 0])\n",
    "    direction_true = torch.sign(true_close[:, -1] - true_close[:, 0])\n",
    "    return (direction_pred == direction_true).float().mean()"
   ]
  },
  {
   "cell_type": "code",
   "execution_count": 213,
   "metadata": {},
   "outputs": [],
   "source": [
    "batch_size = 64\n",
    "num_workers = 1\n",
    "window_size = 180\n",
    "root_dir = \"market_data/unzip_data\"\n",
    "max_epoch = 20"
   ]
  },
  {
   "cell_type": "code",
   "execution_count": 214,
   "metadata": {},
   "outputs": [
    {
     "name": "stderr",
     "output_type": "stream",
     "text": [
      "tables done:   0%|          | 3/1444 [00:00<00:18, 76.85it/s]\n",
      "tables done:   0%|          | 0/1448 [00:00<?, ?it/s]\n"
     ]
    }
   ],
   "source": [
    "train_dataset = CandelsDataset(\n",
    "    root_dir=root_dir, \n",
    "    years=[2023], \n",
    "    window_size=window_size,\n",
    "    max_samples=1000, \n",
    "    device=device\n",
    "    )\n",
    "\n",
    "val_dataset = CandelsDataset(\n",
    "    root_dir=root_dir, \n",
    "    years=[2024], \n",
    "    window_size=window_size,\n",
    "    max_samples=200, \n",
    "    device=device\n",
    "    )"
   ]
  },
  {
   "cell_type": "code",
   "execution_count": 215,
   "metadata": {},
   "outputs": [],
   "source": [
    "train_loader = DataLoader(train_dataset, batch_size=batch_size, shuffle=True, pin_memory=True)\n",
    "val_loader = DataLoader(val_dataset, batch_size=batch_size, pin_memory=True)"
   ]
  },
  {
   "cell_type": "code",
   "execution_count": 216,
   "metadata": {},
   "outputs": [],
   "source": [
    "model = CandleTransformer().to(device=device)\n",
    "criterion = nn.MSELoss()\n",
    "optimizer = torch.optim.AdamW(model.parameters(), lr=1e-4, weight_decay=1e-5)"
   ]
  },
  {
   "cell_type": "code",
   "execution_count": 205,
   "metadata": {},
   "outputs": [
    {
     "name": "stderr",
     "output_type": "stream",
     "text": [
      "Train Epoch 1:   0%|          | 0/24 [00:00<?, ?it/s]"
     ]
    },
    {
     "name": "stdout",
     "output_type": "stream",
     "text": [
      "torch.Size([64, 5]) torch.Size([64, 5])\n"
     ]
    },
    {
     "name": "stderr",
     "output_type": "stream",
     "text": [
      "Train Epoch 1:   4%|▍         | 1/24 [00:08<03:26,  8.97s/it]"
     ]
    }
   ],
   "source": [
    "for epoch in range(max_epoch):\n",
    "        model.train()\n",
    "        train_loss = 0\n",
    "        train_metrics = {\"dir_accuracy\": []}\n",
    "        test_metrics = {\"dir_accuracy\": []}\n",
    "        \n",
    "        for candles, time, targets in tqdm(train_loader, desc=f\"Train Epoch {epoch + 1}\"):\n",
    "            optimizer.zero_grad()\n",
    "            outputs = model(candles, time)\n",
    "            loss = criterion(outputs, targets)\n",
    "            loss.backward()\n",
    "            optimizer.step()\n",
    "            train_loss += loss.item() * candles.size(0)\n",
    "        \n",
    "        model.eval()\n",
    "        val_loss = 0\n",
    "        all_targets = []\n",
    "        all_preds = []\n",
    "        with torch.no_grad():\n",
    "            for candles, time, targets in tqdm(val_loader, desc=f\"Validation Epoch {epoch + 1}\"):\n",
    "                outputs = model(candles, time)\n",
    "                val_loss += criterion(outputs, targets).item() * candles.size(0)\n",
    "                all_targets.extend(targets.cpu().numpy())\n",
    "                all_preds.extend(outputs.cpu().numpy())\n",
    "        dir_accuracy = direction_accuracy(outputs, targets)\n",
    "        train_metrics[\"dir_accuracy\"].append(dir_accuracy)\n",
    "        \n",
    "        print(f\"Epoch {epoch+1}/{max_epoch}\")\n",
    "        print(f\"Train Loss: {train_loss/len(train_loader):.4f}\")\n",
    "        print(f\"Val Loss: {val_loss/len(val_loader):.4f}\\n\")\n",
    "        print(f\"Val direction Accuracy: {dir_accuracy:.4f}\\n\")\n",
    "        print(train_metrics)"
   ]
  },
  {
   "cell_type": "code",
   "execution_count": 29,
   "metadata": {},
   "outputs": [],
   "source": [
    "train_loader = DataLoader(train_dataset, batch_size=1, shuffle=True, pin_memory=True)"
   ]
  },
  {
   "cell_type": "code",
   "execution_count": 31,
   "metadata": {},
   "outputs": [
    {
     "name": "stderr",
     "output_type": "stream",
     "text": [
      "Train Epoch 20:   0%|          | 0/77530 [00:00<?, ?it/s]"
     ]
    },
    {
     "name": "stdout",
     "output_type": "stream",
     "text": [
      "tensor([[-0.0019,  0.0037, -0.0104, -0.0165,  0.9901]],\n",
      "       grad_fn=<AddmmBackward0>)\n",
      "tensor([[[ 0.1463,  0.1463,  0.0800,  0.2000, -0.2192]]])\n"
     ]
    },
    {
     "name": "stderr",
     "output_type": "stream",
     "text": [
      "\n"
     ]
    }
   ],
   "source": [
    "for candles, time, targets in tqdm(train_loader, desc=f\"Train Epoch {epoch + 1}\"):\n",
    "    optimizer.zero_grad()\n",
    "    outputs = model(candles, time)\n",
    "    loss = criterion(outputs, targets)\n",
    "    print(outputs)\n",
    "    print(targets)\n",
    "    break"
   ]
  }
 ],
 "metadata": {
  "kernelspec": {
   "display_name": ".venv",
   "language": "python",
   "name": "python3"
  },
  "language_info": {
   "codemirror_mode": {
    "name": "ipython",
    "version": 3
   },
   "file_extension": ".py",
   "mimetype": "text/x-python",
   "name": "python",
   "nbconvert_exporter": "python",
   "pygments_lexer": "ipython3",
   "version": "3.9.12"
  }
 },
 "nbformat": 4,
 "nbformat_minor": 2
}
